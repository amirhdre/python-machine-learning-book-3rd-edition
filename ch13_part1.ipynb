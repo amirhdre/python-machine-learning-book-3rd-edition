{
 "cells": [
  {
   "cell_type": "code",
   "execution_count": 1,
   "metadata": {},
   "outputs": [
    {
     "name": "stdout",
     "output_type": "stream",
     "text": [
      "PyTorch version: 2.0.1\n"
     ]
    }
   ],
   "source": [
    "####################################\n",
    "#   SETUP (Equivalent to \"Imports\")\n",
    "####################################\n",
    "import torch\n",
    "import torch.nn.functional as F\n",
    "import torchvision\n",
    "from torchvision import transforms\n",
    "\n",
    "import numpy as np\n",
    "import matplotlib.pyplot as plt\n",
    "import os\n",
    "\n",
    "print(\"PyTorch version:\", torch.__version__)\n",
    "\n",
    "# For reproducibility of random numbers\n",
    "torch.manual_seed(1)\n",
    "np.random.seed(1)\n"
   ]
  },
  {
   "cell_type": "code",
   "execution_count": 2,
   "metadata": {},
   "outputs": [
    {
     "name": "stdout",
     "output_type": "stream",
     "text": [
      "t_a: tensor([1, 2, 3], dtype=torch.int32)\n",
      "t_b: tensor([4, 5, 6])\n",
      "Is 'a_np' a tensor? False\n",
      "Is 't_a' a tensor? True\n",
      "t_ones shape: torch.Size([2, 3])\n",
      "t_ones:\n",
      " tensor([[1., 1., 1.],\n",
      "        [1., 1., 1.]])\n",
      "const_tensor: tensor([1.2000, 5.0000, 3.1416])\n"
     ]
    }
   ],
   "source": [
    "#############################################\n",
    "#   Creating tensors in PyTorch\n",
    "#############################################\n",
    "\n",
    "# Equivalent to \"a = np.array([...])\" and \"t_a = tf.convert_to_tensor(a)\"\n",
    "a_np = np.array([1, 2, 3], dtype=np.int32)\n",
    "b_list = [4, 5, 6]\n",
    "\n",
    "t_a = torch.tensor(a_np)       # from numpy array\n",
    "t_b = torch.tensor(b_list)     # from list\n",
    "\n",
    "print(\"t_a:\", t_a)\n",
    "print(\"t_b:\", t_b)\n",
    "print(\"Is 'a_np' a tensor?\", torch.is_tensor(a_np))\n",
    "print(\"Is 't_a' a tensor?\", torch.is_tensor(t_a))\n",
    "\n",
    "# Create a 2x3 tensor of ones\n",
    "t_ones = torch.ones((2, 3))\n",
    "print(\"t_ones shape:\", t_ones.shape)\n",
    "print(\"t_ones:\\n\", t_ones)\n",
    "\n",
    "# Create a constant tensor in float32\n",
    "const_tensor = torch.tensor([1.2, 5, np.pi], dtype=torch.float32)\n",
    "print(\"const_tensor:\", const_tensor)\n"
   ]
  },
  {
   "cell_type": "code",
   "execution_count": 3,
   "metadata": {},
   "outputs": [
    {
     "name": "stdout",
     "output_type": "stream",
     "text": [
      "t_a_new.dtype: torch.int64\n",
      "Original shape -> Transposed shape: torch.Size([3, 5]) -> torch.Size([5, 3])\n",
      "Reshaped t shape: torch.Size([5, 6])\n",
      "t.shape: torch.Size([1, 2, 1, 4, 1]) --> t_sqz.shape: torch.Size([1, 2, 4])\n"
     ]
    }
   ],
   "source": [
    "# Changing the data type\n",
    "t_a_new = t_a.to(torch.int64)\n",
    "print(\"t_a_new.dtype:\", t_a_new.dtype)\n",
    "\n",
    "# Transposing\n",
    "t = torch.rand((3, 5))  # uniform random\n",
    "t_tr = t.t()            # transpose\n",
    "print(\"Original shape -> Transposed shape:\", t.shape, \"->\", t_tr.shape)\n",
    "\n",
    "# Reshaping\n",
    "t = torch.zeros((30,))\n",
    "t_reshape = t.reshape((5, 6))\n",
    "print(\"Reshaped t shape:\", t_reshape.shape)\n",
    "\n",
    "# Squeezing\n",
    "t = torch.zeros((1, 2, 1, 4, 1))\n",
    "t_sqz = torch.squeeze(t, dim=2)     # remove dimension 2\n",
    "t_sqz = torch.squeeze(t_sqz, dim=3) # or remove dimension 4 if you prefer\n",
    "# Alternatively, you could do multiple .squeeze() calls or specify them\n",
    "print(\"t.shape:\", t.shape, \"-->\", \"t_sqz.shape:\", t_sqz.shape)\n"
   ]
  },
  {
   "cell_type": "code",
   "execution_count": 4,
   "metadata": {},
   "outputs": [
    {
     "name": "stdout",
     "output_type": "stream",
     "text": [
      "t3:\n",
      " tensor([[ 0.4426, -0.3114],\n",
      "        [ 0.0660, -0.5970],\n",
      "        [ 1.1249,  0.0150],\n",
      "        [ 0.1569,  0.7107],\n",
      "        [-0.0451, -0.0352]])\n",
      "t4:\n",
      " tensor([-0.1373,  0.2028])\n",
      "t5:\n",
      " tensor([[ 0.1312,  0.3860, -0.6267, -1.0096, -0.2943],\n",
      "        [ 0.1647, -0.5310,  0.2434,  0.8035,  0.1980],\n",
      "        [-0.3855, -0.4422,  1.1399,  1.5558,  0.4781],\n",
      "        [ 0.1822, -0.5771,  0.2585,  0.8676,  0.2132],\n",
      "        [ 0.0330,  0.1084, -0.1692, -0.2771, -0.0804]])\n",
      "t6:\n",
      " tensor([[ 1.7453,  0.3392],\n",
      "        [-1.6038, -0.2180]])\n",
      "norm_t1:\n",
      " tensor([0.6785, 0.5078, 1.1162, 0.5488, 0.1853])\n",
      "Check norm with numpy: [0.67846215 0.5078282  1.1162277  0.5487652  0.18525197]\n"
     ]
    }
   ],
   "source": [
    "torch.manual_seed(1)\n",
    "t1 = torch.rand((5, 2))*2 - 1.0  # uniform in [-1,1], just to replicate TF\n",
    "t2 = torch.randn((5, 2))         # normal distribution\n",
    "\n",
    "# Elementwise multiplication\n",
    "t3 = t1 * t2\n",
    "print(\"t3:\\n\", t3)\n",
    "\n",
    "# Reduce mean across dimension 0\n",
    "t4 = torch.mean(t1, dim=0)\n",
    "print(\"t4:\\n\", t4)\n",
    "\n",
    "# Matrix multiplication \n",
    "t5 = torch.matmul(t1, t2.t())  # (5,2) x (2,5) => (5,5)\n",
    "print(\"t5:\\n\", t5)\n",
    "\n",
    "t6 = torch.matmul(t1.t(), t2)  # (2,5) x (5,2) => (2,2)\n",
    "print(\"t6:\\n\", t6)\n",
    "\n",
    "# L2 norm (like tf.norm(..., ord=2, axis=1))\n",
    "norm_t1 = torch.norm(t1, p=2, dim=1)\n",
    "print(\"norm_t1:\\n\", norm_t1)\n",
    "# Compare with the numpy version:\n",
    "print(\"Check norm with numpy:\", np.sqrt(np.sum(t1.numpy()**2, axis=1)))\n"
   ]
  },
  {
   "cell_type": "code",
   "execution_count": 13,
   "metadata": {},
   "outputs": [
    {
     "name": "stdout",
     "output_type": "stream",
     "text": [
      "t: [0.7576316  0.27931088 0.40306926 0.73468447 0.02928156 0.7998586 ]\n",
      "Split 0: [0.7576316  0.27931088]\n",
      "Split 1: [0.40306926 0.73468447]\n",
      "Split 2: [0.02928156 0.7998586 ]\n",
      "\n",
      "New t: [0.7576316  0.27931088 0.40306926 0.73468447 0.02928156]\n",
      "Split 0: [0.7576316  0.27931088 0.40306926]\n",
      "Split 1: [0.73468447 0.02928156]\n",
      "\n",
      "Concatenation:\n",
      " tensor([1., 1., 1., 0., 0.])\n",
      "\n",
      "Stack:\n",
      " tensor([[1., 0.],\n",
      "        [1., 0.],\n",
      "        [1., 0.]])\n"
     ]
    }
   ],
   "source": [
    "torch.manual_seed(1)\n",
    "t = torch.rand((6,))\n",
    "print(\"t:\", t.numpy())\n",
    "\n",
    "t_splits = torch.split(t, 2)  # split into chunks of size=2\n",
    "for idx, item in enumerate(t_splits):\n",
    "    print(f\"Split {idx}:\", item.numpy())\n",
    "\n",
    "# Another approach: split with specific sizes\n",
    "torch.manual_seed(1)\n",
    "t = torch.rand((5,))\n",
    "print(\"\\nNew t:\", t.numpy())\n",
    "\n",
    "t_splits = torch.split(t, [3,2])  # first 3, then 2\n",
    "for idx, item in enumerate(t_splits):\n",
    "    print(f\"Split {idx}:\", item.numpy())\n",
    "\n",
    "# Concatenate\n",
    "A = torch.ones((3,))\n",
    "B = torch.zeros((2,))\n",
    "C = torch.cat([A, B], dim=0)\n",
    "print(\"\\nConcatenation:\\n\", C)\n",
    "\n",
    "# Stack\n",
    "A = torch.ones((3,))\n",
    "B = torch.zeros((3,))\n",
    "S = torch.stack([A, B], dim=1)\n",
    "print(\"\\nStack:\\n\", S)\n",
    "\n"
   ]
  },
  {
   "cell_type": "code",
   "execution_count": 14,
   "metadata": {},
   "outputs": [
    {
     "name": "stdout",
     "output_type": "stream",
     "text": [
      "Dataset length: 4\n",
      "Index 0 => x: [0.7576316  0.27931088 0.40306926], y: 0\n",
      "Index 1 => x: [0.73468447 0.02928156 0.7998586 ], y: 1\n",
      "Index 2 => x: [0.39713734 0.75437194 0.5695085 ], y: 2\n",
      "Index 3 => x: [0.43877792 0.63868046 0.5246659 ], y: 3\n"
     ]
    }
   ],
   "source": [
    "from torch.utils.data import Dataset, DataLoader\n",
    "\n",
    "class TensorDatasetCustom(Dataset):\n",
    "    \"\"\"Simple Dataset that takes two tensors X and y and returns them.\"\"\"\n",
    "    def __init__(self, x_tensor, y_tensor, transform=None):\n",
    "        self.x = x_tensor\n",
    "        self.y = y_tensor\n",
    "        self.transform = transform\n",
    "        \n",
    "    def __len__(self):\n",
    "        return self.x.shape[0]\n",
    "    \n",
    "    def __getitem__(self, idx):\n",
    "        x_item = self.x[idx]\n",
    "        y_item = self.y[idx]\n",
    "        if self.transform is not None:\n",
    "            x_item = self.transform(x_item)\n",
    "        return x_item, y_item\n",
    "\n",
    "# Example usage:\n",
    "torch.manual_seed(1)\n",
    "t_x = torch.rand((4, 3), dtype=torch.float32)\n",
    "t_y = torch.arange(4, dtype=torch.int64)\n",
    "\n",
    "dataset_joint = TensorDatasetCustom(t_x, t_y)\n",
    "print(\"Dataset length:\", len(dataset_joint))\n",
    "\n",
    "for i in range(len(dataset_joint)):\n",
    "    x_, y_ = dataset_joint[i]\n",
    "    print(f\"Index {i} => x: {x_.numpy()}, y: {y_.item()}\")\n"
   ]
  },
  {
   "cell_type": "code",
   "execution_count": 15,
   "metadata": {},
   "outputs": [
    {
     "name": "stdout",
     "output_type": "stream",
     "text": [
      "Index 0 => x: [ 0.5152632  -0.44137824 -0.19386148], y: 0\n",
      "Index 1 => x: [ 0.46936893 -0.9414369   0.59971726], y: 1\n",
      "Index 2 => x: [-0.20572531  0.5087439   0.13901699], y: 2\n",
      "Index 3 => x: [-0.12244415  0.27736092  0.04933178], y: 3\n"
     ]
    }
   ],
   "source": [
    "class MultiplyTransform:\n",
    "    \"\"\"Example transform that multiplies the input by 2 and subtracts 1.\"\"\"\n",
    "    def __call__(self, x):\n",
    "        return x*2 - 1.0\n",
    "\n",
    "# Attach the transform:\n",
    "dataset_transformed = TensorDatasetCustom(t_x, t_y, transform=MultiplyTransform())\n",
    "\n",
    "for i in range(len(dataset_transformed)):\n",
    "    x_, y_ = dataset_transformed[i]\n",
    "    print(f\"Index {i} => x: {x_.numpy()}, y: {y_.item()}\")\n"
   ]
  },
  {
   "cell_type": "code",
   "execution_count": 18,
   "metadata": {},
   "outputs": [
    {
     "name": "stdout",
     "output_type": "stream",
     "text": [
      "Batch 0:\n",
      "  X:\n",
      " tensor([[0.4388, 0.6387, 0.5247],\n",
      "        [0.7347, 0.0293, 0.7999],\n",
      "        [0.7576, 0.2793, 0.4031]])\n",
      "  Y: tensor([3, 1, 0])\n",
      "Batch 1:\n",
      "  X:\n",
      " tensor([[0.3971, 0.7544, 0.5695]])\n",
      "  Y: tensor([2])\n",
      "\n",
      "-- Repeating (simulating multiple epochs) --\n",
      "Epoch=0, batch=0, y=[0, 1, 3]\n",
      "Epoch=0, batch=1, y=[2]\n",
      "Epoch=1, batch=0, y=[1, 2, 0]\n",
      "Epoch=1, batch=1, y=[3]\n",
      "Epoch=2, batch=0, y=[2, 3, 0]\n",
      "Epoch=2, batch=1, y=[1]\n"
     ]
    }
   ],
   "source": [
    "# PyTorch DataLoader automatically handles shuffle & batch. \n",
    "# \"Repeat\" is typically done by setting an epoch loop or specifying\n",
    "# `drop_last` or re-initializing the DataLoader in a training loop.\n",
    "\n",
    "loader = DataLoader(dataset_joint, batch_size=3, shuffle=True, drop_last=False)\n",
    "\n",
    "for batch_idx, (x_batch, y_batch) in enumerate(loader):\n",
    "    print(f\"Batch {batch_idx}:\")\n",
    "    print(\"  X:\\n\", x_batch)\n",
    "    print(\"  Y:\", y_batch)\n",
    "\n",
    "# 'Repeat' in TensorFlow means infinite or limited re-iteration.\n",
    "# In PyTorch, we just run multiple epochs. For demonstration:\n",
    "\n",
    "print(\"\\n-- Repeating (simulating multiple epochs) --\")\n",
    "for epoch in range(3):\n",
    "    for batch_idx, (x_batch, y_batch) in enumerate(loader):\n",
    "        print(f\"Epoch={epoch}, batch={batch_idx}, y={y_batch.tolist()}\")\n"
   ]
  },
  {
   "cell_type": "code",
   "execution_count": 19,
   "metadata": {},
   "outputs": [
    {
     "ename": "FileNotFoundError",
     "evalue": "[Errno 2] No such file or directory: 'cat_dog_images'",
     "output_type": "error",
     "traceback": [
      "\u001b[0;31m---------------------------------------------------------------------------\u001b[0m",
      "\u001b[0;31mFileNotFoundError\u001b[0m                         Traceback (most recent call last)",
      "Cell \u001b[0;32mIn[19], line 30\u001b[0m\n\u001b[1;32m     27\u001b[0m \u001b[38;5;66;03m# Example usage:\u001b[39;00m\n\u001b[1;32m     28\u001b[0m imgdir_path \u001b[38;5;241m=\u001b[39m \u001b[38;5;124m'\u001b[39m\u001b[38;5;124mcat_dog_images\u001b[39m\u001b[38;5;124m'\u001b[39m  \u001b[38;5;66;03m# Folder path\u001b[39;00m\n\u001b[1;32m     29\u001b[0m file_list \u001b[38;5;241m=\u001b[39m \u001b[38;5;28msorted\u001b[39m([os\u001b[38;5;241m.\u001b[39mpath\u001b[38;5;241m.\u001b[39mjoin(imgdir_path, f) \n\u001b[0;32m---> 30\u001b[0m                     \u001b[38;5;28;01mfor\u001b[39;00m f \u001b[38;5;129;01min\u001b[39;00m \u001b[43mos\u001b[49m\u001b[38;5;241;43m.\u001b[39;49m\u001b[43mlistdir\u001b[49m\u001b[43m(\u001b[49m\u001b[43mimgdir_path\u001b[49m\u001b[43m)\u001b[49m \n\u001b[1;32m     31\u001b[0m                     \u001b[38;5;28;01mif\u001b[39;00m f\u001b[38;5;241m.\u001b[39mendswith(\u001b[38;5;124m'\u001b[39m\u001b[38;5;124m.jpg\u001b[39m\u001b[38;5;124m'\u001b[39m)])\n\u001b[1;32m     32\u001b[0m \u001b[38;5;28mprint\u001b[39m(\u001b[38;5;124m\"\u001b[39m\u001b[38;5;124mFile list:\u001b[39m\u001b[38;5;124m\"\u001b[39m, file_list)\n\u001b[1;32m     34\u001b[0m \u001b[38;5;66;03m# Just as in the TF code: cat=0, dog=1\u001b[39;00m\n",
      "\u001b[0;31mFileNotFoundError\u001b[0m: [Errno 2] No such file or directory: 'cat_dog_images'"
     ]
    }
   ],
   "source": [
    "from PIL import Image\n",
    "\n",
    "class ImageFolderWithPaths(Dataset):\n",
    "    \"\"\"\n",
    "    A custom Dataset for loading images from a list of file paths\n",
    "    plus their integer label (cat=0, dog=1).\n",
    "    \"\"\"\n",
    "    def __init__(self, file_list, labels, transform=None):\n",
    "        self.file_list = file_list\n",
    "        self.labels = labels\n",
    "        self.transform = transform\n",
    "        \n",
    "    def __len__(self):\n",
    "        return len(self.file_list)\n",
    "    \n",
    "    def __getitem__(self, idx):\n",
    "        path = self.file_list[idx]\n",
    "        label = self.labels[idx]\n",
    "        \n",
    "        image = Image.open(path).convert(\"RGB\")\n",
    "        \n",
    "        if self.transform:\n",
    "            image = self.transform(image)\n",
    "        \n",
    "        return image, label\n",
    "\n",
    "# Example usage:\n",
    "imgdir_path = 'cat_dog_images'  # Folder path\n",
    "file_list = sorted([os.path.join(imgdir_path, f) \n",
    "                    for f in os.listdir(imgdir_path) \n",
    "                    if f.endswith('.jpg')])\n",
    "print(\"File list:\", file_list)\n",
    "\n",
    "# Just as in the TF code: cat=0, dog=1\n",
    "labels = [1 if 'dog' in os.path.basename(f) else 0 for f in file_list]\n",
    "print(\"Labels:\", labels)\n",
    "\n",
    "# Set up a transform to replicate resizing, scaling 1/255, etc.\n",
    "# In PyTorch, we usually do normalization by (mean,std). For a \n",
    "# simple scale to [0,1], we can do transforms.ToTensor(). That\n",
    "# converts from [0..255] to [0..1] float automatically.\n",
    "img_width, img_height = 120, 80\n",
    "transform = transforms.Compose([\n",
    "    transforms.Resize((img_height, img_width)),\n",
    "    transforms.ToTensor(),  # automatically scales to [0,1]\n",
    "])\n",
    "\n",
    "catdog_dataset = ImageFolderWithPaths(file_list, labels, transform=transform)\n",
    "\n",
    "# Show images in a grid:\n",
    "fig = plt.figure(figsize=(10,5))\n",
    "for i in range(len(catdog_dataset)):\n",
    "    image, label = catdog_dataset[i]\n",
    "    image_np = image.permute(1, 2, 0).numpy()  # CxHxW -> HxWxC\n",
    "    ax = fig.add_subplot(2, 3, i+1)\n",
    "    ax.set_xticks([])\n",
    "    ax.set_yticks([])\n",
    "    ax.imshow(image_np)\n",
    "    ax.set_title(f\"Label={label}\", size=15)\n",
    "plt.tight_layout()\n",
    "plt.show()\n"
   ]
  },
  {
   "cell_type": "code",
   "execution_count": null,
   "metadata": {},
   "outputs": [],
   "source": []
  }
 ],
 "metadata": {
  "kernelspec": {
   "display_name": "pytorch_m1",
   "language": "python",
   "name": "python3"
  },
  "language_info": {
   "codemirror_mode": {
    "name": "ipython",
    "version": 3
   },
   "file_extension": ".py",
   "mimetype": "text/x-python",
   "name": "python",
   "nbconvert_exporter": "python",
   "pygments_lexer": "ipython3",
   "version": "3.8.20"
  }
 },
 "nbformat": 4,
 "nbformat_minor": 2
}
